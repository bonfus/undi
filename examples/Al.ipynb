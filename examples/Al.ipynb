{
 "cells": [
  {
   "cell_type": "markdown",
   "metadata": {},
   "source": [
    "# Muon in Al octahedral site, with 6 nearest neighbors Al nuclei for the muon.\n",
    "Author: Jonathan Frassineti\n",
    "\n",
    "This example shows how to use the Celio approximation as implemented in UNDI.\n",
    "The simulations that follow reproduce the case of Al for different external magnetic fields along the [1.,1.,1.] axis.\n",
    "The comparison between the case with positive electric field gradient (EFG) and negative EFG is shown.\n",
    "For the physical aspects, see A.Yaouanc and P. de Réotier, Muon Spin Rotation, Relaxation and Resonance,\n",
    "Oxford University Press, 2010, chapter 7, Fig. 7.8."
   ]
  },
  {
   "cell_type": "code",
   "execution_count": 1,
   "metadata": {},
   "outputs": [],
   "source": [
    "from undi import MuonNuclearInteraction\n",
    "import matplotlib.pyplot as plt\n",
    "import numpy as np\n",
    "from scipy.interpolate import interp1d"
   ]
  },
  {
   "cell_type": "markdown",
   "metadata": {},
   "source": [
    "Define physical constants."
   ]
  },
  {
   "cell_type": "code",
   "execution_count": 2,
   "metadata": {},
   "outputs": [],
   "source": [
    "angtom = 1.0e-10 # m, Angstrom.\n",
    "a = 4.0495*1.05 # Al lattice constant, in Angstrom, distorted by the muon presence.\n",
    "elementary_charge = 1.6021766e-19 # Elementary charge, in Coulomb = Ampere*second.\n",
    "epsilon0 = 8.8541878e-12 # Vacuum permittivity, in Ampere^2*kilogram^−1*meter^−3*second^4.\n",
    "h = 6.6260693e-34 # J*s, Planck's constant.\n",
    "hbar = h/(2*np.pi) # J*s, reduced Planck's constant.\n",
    "\n",
    "spin_mu = 1/2 # Muon spin.\n",
    "spin_Al = 5/2 # 27Al spin.\n",
    "Quadrupole_moment_Al = 0.1466e-28 # m^2, quadrupole moment of Al.\n",
    "gamma_mu = 2*np.pi*135.5e6 # sT^-1, gyromagnetic ratio of muon.\n",
    "gamma_Al = 69.76e6 # sT^-1, gyromagnetic ratio of Al.\n",
    "omega = 0.70e6 # Quadrupolar resonance frequency of Al, in us^-1."
   ]
  },
  {
   "cell_type": "markdown",
   "metadata": {},
   "source": [
    "Define the rotation matrix that brings the diagonal of the FCC lattice\n",
    "along z."
   ]
  },
  {
   "cell_type": "code",
   "execution_count": 3,
   "metadata": {},
   "outputs": [],
   "source": [
    "R = np.array([[ 0.78867513, -0.21132487, -0.57735027],\n",
    "              [-0.21132487,  0.78867513, -0.57735027],\n",
    "              [ 0.57735027,  0.57735027,  0.57735027]])"
   ]
  },
  {
   "cell_type": "markdown",
   "metadata": {},
   "source": [
    "Define the atomic positions for muon and Al nuclei."
   ]
  },
  {
   "cell_type": "code",
   "execution_count": 4,
   "metadata": {},
   "outputs": [],
   "source": [
    "mu_pos = np.array([  0  ,   0.,   0.])\n",
    "Al_pos = np.array([[ 0. ,   0.,  -0.5],\n",
    "                   [ 0. ,   0.,   0.5],\n",
    "                   [ 0.5,   0.,   0.0],\n",
    "                   [-0.5,   0.,   0.0],\n",
    "                   [ 0. ,   0.5,  0.0],\n",
    "                   [ 0. , - 0.5,  0.0]])"
   ]
  },
  {
   "cell_type": "markdown",
   "metadata": {},
   "source": [
    "Define the atomic structure. Note that positions are rotated first."
   ]
  },
  {
   "cell_type": "code",
   "execution_count": 5,
   "metadata": {},
   "outputs": [],
   "source": [
    "atoms = [\n",
    "\n",
    "    {'Position': R.dot(mu_pos)*angtom*a,\n",
    "     'Label': 'mu',\n",
    "     'Gamma': gamma_mu,\n",
    "     'Spin': spin_mu},\n",
    "     ]\n",
    "\n",
    "for i in range(6):\n",
    "    atoms.append(\n",
    "        {'Position': R.dot(Al_pos[i])*angtom*a,\n",
    "        'Label': '27Al',\n",
    "        'ElectricQuadrupoleMoment': Quadrupole_moment_Al,\n",
    "        'Gamma': gamma_Al,\n",
    "        'Spin':  spin_Al,\n",
    "        'OmegaQmu': omega\n",
    "        }\n",
    "    )"
   ]
  },
  {
   "cell_type": "markdown",
   "metadata": {},
   "source": [
    "## Polarization function.\n",
    "\n",
    "The muon polarization is obtained with the method introduced by Celio."
   ]
  },
  {
   "cell_type": "code",
   "execution_count": 6,
   "metadata": {},
   "outputs": [],
   "source": [
    "steps = 100\n",
    "tlist = np.linspace(0, 20e-6, steps) # Time scale, in microseconds."
   ]
  },
  {
   "cell_type": "markdown",
   "metadata": {},
   "source": [
    "Define the applied external magnetic fields, in Tesla."
   ]
  },
  {
   "cell_type": "code",
   "execution_count": 7,
   "metadata": {},
   "outputs": [
    {
     "name": "stdout",
     "output_type": "stream",
     "text": [
      "Computing signal for positive EFGs..."
     ]
    },
    {
     "name": "stderr",
     "output_type": "stream",
     "text": [
      "WARNING:undi.undi:Warning, overriding gamma for 27Al\n",
      "WARNING:undi.undi:Warning, overriding gamma for 27Al\n",
      "WARNING:undi.undi:Warning, overriding gamma for 27Al\n",
      "WARNING:undi.undi:Warning, overriding gamma for 27Al\n",
      "WARNING:undi.undi:Warning, overriding gamma for 27Al\n",
      "WARNING:undi.undi:Warning, overriding gamma for 27Al\n",
      "INFO:undi.undi:Hilbert space is 93312 dimensional\n",
      "INFO:undi.undi:Adding interaction between mu and 27Al with distance 2.1259875029840567e-10\n",
      "INFO:undi.undi:Adding interaction between mu and 27Al with distance 2.1259875029840567e-10\n",
      "INFO:undi.undi:Adding interaction between mu and 27Al with distance 2.1259874953548311e-10\n",
      "INFO:undi.undi:Adding interaction between mu and 27Al with distance 2.1259874953548311e-10\n",
      "INFO:undi.undi:Adding interaction between mu and 27Al with distance 2.1259874953548311e-10\n",
      "INFO:undi.undi:Adding interaction between mu and 27Al with distance 2.1259874953548311e-10\n",
      "WARNING:undi.undi:Warning, overriding gamma for 27Al\n",
      "WARNING:undi.undi:Warning, overriding gamma for 27Al\n",
      "WARNING:undi.undi:Warning, overriding gamma for 27Al\n",
      "WARNING:undi.undi:Warning, overriding gamma for 27Al\n",
      "WARNING:undi.undi:Warning, overriding gamma for 27Al\n",
      "WARNING:undi.undi:Warning, overriding gamma for 27Al\n",
      "INFO:undi.undi:Hilbert space is 93312 dimensional\n",
      "INFO:undi.undi:Adding interaction between mu and 27Al with distance 2.1259875029840567e-10\n",
      "INFO:undi.undi:Adding interaction between mu and 27Al with distance 2.1259875029840567e-10\n",
      "INFO:undi.undi:Adding interaction between mu and 27Al with distance 2.1259874953548311e-10\n",
      "INFO:undi.undi:Adding interaction between mu and 27Al with distance 2.1259874953548311e-10\n",
      "INFO:undi.undi:Adding interaction between mu and 27Al with distance 2.1259874953548311e-10\n",
      "INFO:undi.undi:Adding interaction between mu and 27Al with distance 2.1259874953548311e-10\n",
      "WARNING:undi.undi:Warning, overriding gamma for 27Al\n",
      "WARNING:undi.undi:Warning, overriding gamma for 27Al\n",
      "WARNING:undi.undi:Warning, overriding gamma for 27Al\n",
      "WARNING:undi.undi:Warning, overriding gamma for 27Al\n",
      "WARNING:undi.undi:Warning, overriding gamma for 27Al\n",
      "WARNING:undi.undi:Warning, overriding gamma for 27Al\n",
      "INFO:undi.undi:Hilbert space is 93312 dimensional\n",
      "INFO:undi.undi:Adding interaction between mu and 27Al with distance 2.1259875029840567e-10\n",
      "INFO:undi.undi:Adding interaction between mu and 27Al with distance 2.1259875029840567e-10\n",
      "INFO:undi.undi:Adding interaction between mu and 27Al with distance 2.1259874953548311e-10\n",
      "INFO:undi.undi:Adding interaction between mu and 27Al with distance 2.1259874953548311e-10\n",
      "INFO:undi.undi:Adding interaction between mu and 27Al with distance 2.1259874953548311e-10\n",
      "INFO:undi.undi:Adding interaction between mu and 27Al with distance 2.1259874953548311e-10\n",
      "WARNING:undi.undi:Warning, overriding gamma for 27Al\n",
      "WARNING:undi.undi:Warning, overriding gamma for 27Al\n",
      "WARNING:undi.undi:Warning, overriding gamma for 27Al\n",
      "WARNING:undi.undi:Warning, overriding gamma for 27Al\n",
      "WARNING:undi.undi:Warning, overriding gamma for 27Al\n",
      "WARNING:undi.undi:Warning, overriding gamma for 27Al\n",
      "INFO:undi.undi:Hilbert space is 93312 dimensional\n",
      "INFO:undi.undi:Adding interaction between mu and 27Al with distance 2.1259875029840567e-10\n",
      "INFO:undi.undi:Adding interaction between mu and 27Al with distance 2.1259875029840567e-10\n",
      "INFO:undi.undi:Adding interaction between mu and 27Al with distance 2.1259874953548311e-10\n",
      "INFO:undi.undi:Adding interaction between mu and 27Al with distance 2.1259874953548311e-10\n",
      "INFO:undi.undi:Adding interaction between mu and 27Al with distance 2.1259874953548311e-10\n",
      "INFO:undi.undi:Adding interaction between mu and 27Al with distance 2.1259874953548311e-10\n",
      "WARNING:undi.undi:Warning, overriding gamma for 27Al\n",
      "WARNING:undi.undi:Warning, overriding gamma for 27Al\n",
      "WARNING:undi.undi:Warning, overriding gamma for 27Al\n",
      "WARNING:undi.undi:Warning, overriding gamma for 27Al\n",
      "WARNING:undi.undi:Warning, overriding gamma for 27Al\n",
      "WARNING:undi.undi:Warning, overriding gamma for 27Al\n",
      "INFO:undi.undi:Hilbert space is 93312 dimensional\n",
      "INFO:undi.undi:Adding interaction between mu and 27Al with distance 2.1259875029840567e-10\n",
      "INFO:undi.undi:Adding interaction between mu and 27Al with distance 2.1259875029840567e-10\n",
      "INFO:undi.undi:Adding interaction between mu and 27Al with distance 2.1259874953548311e-10\n",
      "INFO:undi.undi:Adding interaction between mu and 27Al with distance 2.1259874953548311e-10\n",
      "INFO:undi.undi:Adding interaction between mu and 27Al with distance 2.1259874953548311e-10\n",
      "INFO:undi.undi:Adding interaction between mu and 27Al with distance 2.1259874953548311e-10\n",
      "WARNING:undi.undi:Warning, overriding gamma for 27Al\n",
      "WARNING:undi.undi:Warning, overriding gamma for 27Al\n",
      "WARNING:undi.undi:Warning, overriding gamma for 27Al\n",
      "WARNING:undi.undi:Warning, overriding gamma for 27Al\n",
      "WARNING:undi.undi:Warning, overriding gamma for 27Al\n",
      "WARNING:undi.undi:Warning, overriding gamma for 27Al\n",
      "INFO:undi.undi:Hilbert space is 93312 dimensional\n",
      "INFO:undi.undi:Adding interaction between mu and 27Al with distance 2.1259875029840567e-10\n",
      "INFO:undi.undi:Adding interaction between mu and 27Al with distance 2.1259875029840567e-10\n",
      "INFO:undi.undi:Adding interaction between mu and 27Al with distance 2.1259874953548311e-10\n",
      "INFO:undi.undi:Adding interaction between mu and 27Al with distance 2.1259874953548311e-10\n",
      "INFO:undi.undi:Adding interaction between mu and 27Al with distance 2.1259874953548311e-10\n",
      "INFO:undi.undi:Adding interaction between mu and 27Al with distance 2.1259874953548311e-10\n",
      "WARNING:undi.undi:Warning, overriding gamma for 27Al\n",
      "WARNING:undi.undi:Warning, overriding gamma for 27Al\n",
      "WARNING:undi.undi:Warning, overriding gamma for 27Al\n",
      "WARNING:undi.undi:Warning, overriding gamma for 27Al\n",
      "WARNING:undi.undi:Warning, overriding gamma for 27Al\n",
      "WARNING:undi.undi:Warning, overriding gamma for 27Al\n",
      "INFO:undi.undi:Hilbert space is 93312 dimensional\n",
      "INFO:undi.undi:Adding interaction between mu and 27Al with distance 2.1259875029840567e-10\n",
      "INFO:undi.undi:Adding interaction between mu and 27Al with distance 2.1259875029840567e-10\n",
      "INFO:undi.undi:Adding interaction between mu and 27Al with distance 2.1259874953548311e-10\n",
      "INFO:undi.undi:Adding interaction between mu and 27Al with distance 2.1259874953548311e-10\n",
      "INFO:undi.undi:Adding interaction between mu and 27Al with distance 2.1259874953548311e-10\n",
      "INFO:undi.undi:Adding interaction between mu and 27Al with distance 2.1259874953548311e-10\n",
      "WARNING:undi.undi:Warning, overriding gamma for 27Al\n",
      "WARNING:undi.undi:Warning, overriding gamma for 27Al\n",
      "WARNING:undi.undi:Warning, overriding gamma for 27Al\n",
      "WARNING:undi.undi:Warning, overriding gamma for 27Al\n",
      "WARNING:undi.undi:Warning, overriding gamma for 27Al\n",
      "WARNING:undi.undi:Warning, overriding gamma for 27Al\n",
      "INFO:undi.undi:Hilbert space is 93312 dimensional\n",
      "INFO:undi.undi:Adding interaction between mu and 27Al with distance 2.1259875029840567e-10\n",
      "INFO:undi.undi:Adding interaction between mu and 27Al with distance 2.1259875029840567e-10\n",
      "INFO:undi.undi:Adding interaction between mu and 27Al with distance 2.1259874953548311e-10\n",
      "INFO:undi.undi:Adding interaction between mu and 27Al with distance 2.1259874953548311e-10\n",
      "INFO:undi.undi:Adding interaction between mu and 27Al with distance 2.1259874953548311e-10\n",
      "INFO:undi.undi:Adding interaction between mu and 27Al with distance 2.1259874953548311e-10\n",
      "WARNING:undi.undi:Warning, overriding gamma for 27Al\n",
      "WARNING:undi.undi:Warning, overriding gamma for 27Al\n",
      "WARNING:undi.undi:Warning, overriding gamma for 27Al\n",
      "WARNING:undi.undi:Warning, overriding gamma for 27Al\n",
      "WARNING:undi.undi:Warning, overriding gamma for 27Al\n",
      "WARNING:undi.undi:Warning, overriding gamma for 27Al\n",
      "INFO:undi.undi:Hilbert space is 93312 dimensional\n",
      "INFO:undi.undi:Adding interaction between mu and 27Al with distance 2.1259875029840567e-10\n",
      "INFO:undi.undi:Adding interaction between mu and 27Al with distance 2.1259875029840567e-10\n",
      "INFO:undi.undi:Adding interaction between mu and 27Al with distance 2.1259874953548311e-10\n",
      "INFO:undi.undi:Adding interaction between mu and 27Al with distance 2.1259874953548311e-10\n",
      "INFO:undi.undi:Adding interaction between mu and 27Al with distance 2.1259874953548311e-10\n",
      "INFO:undi.undi:Adding interaction between mu and 27Al with distance 2.1259874953548311e-10\n",
      "WARNING:undi.undi:Warning, overriding gamma for 27Al\n",
      "WARNING:undi.undi:Warning, overriding gamma for 27Al\n",
      "WARNING:undi.undi:Warning, overriding gamma for 27Al\n",
      "WARNING:undi.undi:Warning, overriding gamma for 27Al\n",
      "WARNING:undi.undi:Warning, overriding gamma for 27Al\n",
      "WARNING:undi.undi:Warning, overriding gamma for 27Al\n",
      "INFO:undi.undi:Hilbert space is 93312 dimensional\n",
      "INFO:undi.undi:Adding interaction between mu and 27Al with distance 2.1259875029840567e-10\n",
      "INFO:undi.undi:Adding interaction between mu and 27Al with distance 2.1259875029840567e-10\n",
      "INFO:undi.undi:Adding interaction between mu and 27Al with distance 2.1259874953548311e-10\n",
      "INFO:undi.undi:Adding interaction between mu and 27Al with distance 2.1259874953548311e-10\n",
      "INFO:undi.undi:Adding interaction between mu and 27Al with distance 2.1259874953548311e-10\n",
      "INFO:undi.undi:Adding interaction between mu and 27Al with distance 2.1259874953548311e-10\n",
      "WARNING:undi.undi:Warning, overriding gamma for 27Al\n",
      "WARNING:undi.undi:Warning, overriding gamma for 27Al\n",
      "WARNING:undi.undi:Warning, overriding gamma for 27Al\n",
      "WARNING:undi.undi:Warning, overriding gamma for 27Al\n",
      "WARNING:undi.undi:Warning, overriding gamma for 27Al\n",
      "WARNING:undi.undi:Warning, overriding gamma for 27Al\n",
      "INFO:undi.undi:Hilbert space is 93312 dimensional\n",
      "INFO:undi.undi:Adding interaction between mu and 27Al with distance 2.1259875029840567e-10\n",
      "INFO:undi.undi:Adding interaction between mu and 27Al with distance 2.1259875029840567e-10\n",
      "INFO:undi.undi:Adding interaction between mu and 27Al with distance 2.1259874953548311e-10\n",
      "INFO:undi.undi:Adding interaction between mu and 27Al with distance 2.1259874953548311e-10\n",
      "INFO:undi.undi:Adding interaction between mu and 27Al with distance 2.1259874953548311e-10\n",
      "INFO:undi.undi:Adding interaction between mu and 27Al with distance 2.1259874953548311e-10\n",
      "WARNING:undi.undi:Warning, overriding gamma for 27Al\n",
      "WARNING:undi.undi:Warning, overriding gamma for 27Al\n",
      "WARNING:undi.undi:Warning, overriding gamma for 27Al\n",
      "WARNING:undi.undi:Warning, overriding gamma for 27Al\n",
      "WARNING:undi.undi:Warning, overriding gamma for 27Al\n",
      "WARNING:undi.undi:Warning, overriding gamma for 27Al\n",
      "INFO:undi.undi:Hilbert space is 93312 dimensional\n",
      "INFO:undi.undi:Adding interaction between mu and 27Al with distance 2.1259875029840567e-10\n",
      "INFO:undi.undi:Adding interaction between mu and 27Al with distance 2.1259875029840567e-10\n",
      "INFO:undi.undi:Adding interaction between mu and 27Al with distance 2.1259874953548311e-10\n",
      "INFO:undi.undi:Adding interaction between mu and 27Al with distance 2.1259874953548311e-10\n",
      "INFO:undi.undi:Adding interaction between mu and 27Al with distance 2.1259874953548311e-10\n",
      "INFO:undi.undi:Adding interaction between mu and 27Al with distance 2.1259874953548311e-10\n"
     ]
    },
    {
     "name": "stdout",
     "output_type": "stream",
     "text": [
      "done!\n",
      "And now for negative EFG..."
     ]
    },
    {
     "name": "stderr",
     "output_type": "stream",
     "text": [
      "WARNING:undi.undi:Warning, overriding gamma for 27Al\n",
      "WARNING:undi.undi:Warning, overriding gamma for 27Al\n",
      "WARNING:undi.undi:Warning, overriding gamma for 27Al\n",
      "WARNING:undi.undi:Warning, overriding gamma for 27Al\n",
      "WARNING:undi.undi:Warning, overriding gamma for 27Al\n",
      "WARNING:undi.undi:Warning, overriding gamma for 27Al\n",
      "INFO:undi.undi:Hilbert space is 93312 dimensional\n",
      "INFO:undi.undi:Adding interaction between mu and 27Al with distance 2.1259875029840567e-10\n",
      "INFO:undi.undi:Adding interaction between mu and 27Al with distance 2.1259875029840567e-10\n",
      "INFO:undi.undi:Adding interaction between mu and 27Al with distance 2.1259874953548311e-10\n",
      "INFO:undi.undi:Adding interaction between mu and 27Al with distance 2.1259874953548311e-10\n",
      "INFO:undi.undi:Adding interaction between mu and 27Al with distance 2.1259874953548311e-10\n",
      "INFO:undi.undi:Adding interaction between mu and 27Al with distance 2.1259874953548311e-10\n"
     ]
    },
    {
     "name": "stdout",
     "output_type": "stream",
     "text": [
      "done again!\n"
     ]
    }
   ],
   "source": [
    "LongitudinalFields = np.array([0.0, 0.001, 0.00164, 0.003, 0.00329, 0.004, 0.005, 0.006, 0.0005, 0.002, 0.0045, 0.0055])\n",
    "\n",
    "#This is the Celio method for the polarization function with positive EFG.\n",
    "print(\"Computing signal for positive EFGs...\", end='', flush=True)\n",
    "\n",
    "signal_positive_EFG = np.zeros([len(LongitudinalFields), steps]) # Define the polarization signal with positive EFGs.\n",
    "\n",
    "for i, B in enumerate(LongitudinalFields):\n",
    "\n",
    "    # Align the external field along z i.e. parallel to the muon spin.\n",
    "    B_pos = B*np.array([0.,0.,1.])\n",
    "\n",
    "    NS_positive = MuonNuclearInteraction(atoms, external_field=B_pos, log_level='info')\n",
    "\n",
    "    signal_positive_EFG[i] = NS_positive.celio(tlist,  k=3)\n",
    "\n",
    "    del NS_positive\n",
    "\n",
    "print('done!')\n",
    "\n",
    "#This is the Celio method for the polarization function with negative EFG.\n",
    "print(\"And now for negative EFG...\", end='', flush=True)\n",
    "\n",
    "# Align the external field along z i.e. parallel to the muon spin.\n",
    "B_neg = LongitudinalFields[2]*np.array([0., 0., 1.])\n",
    "\n",
    "# change sign\n",
    "for i, a in enumerate(atoms):\n",
    "    if 'OmegaQmu' in a.keys():\n",
    "        atoms[i]['OmegaQmu'] = -a['OmegaQmu']\n",
    "\n",
    "NS_negative = MuonNuclearInteraction(atoms, external_field=B_neg, log_level='info')\n",
    "\n",
    "signal_negative_EFG = NS_negative.celio(tlist,  k=3)\n",
    "\n",
    "del NS_negative\n",
    "\n",
    "print('done again!')"
   ]
  },
  {
   "cell_type": "markdown",
   "metadata": {},
   "source": [
    "Integrate the different curves to reproduce Fig.7.8 (right)."
   ]
  },
  {
   "cell_type": "code",
   "execution_count": 8,
   "metadata": {},
   "outputs": [],
   "source": [
    "area = np.trapz(signal_positive_EFG, x = 1e6*tlist, dx = 0.2e-6)"
   ]
  },
  {
   "cell_type": "markdown",
   "metadata": {},
   "source": [
    "...and the results are:"
   ]
  },
  {
   "cell_type": "code",
   "execution_count": 9,
   "metadata": {},
   "outputs": [
    {
     "data": {
      "image/png": "[encoded data removed]",
      "text/plain": [
       "<Figure size 432x288 with 1 Axes>"
      ]
     },
     "metadata": {
      "needs_background": "light"
     },
     "output_type": "display_data"
    },
    {
     "data": {
      "image/png": "[encoded data removed]",
      "text/plain": [
       "<Figure size 432x288 with 1 Axes>"
      ]
     },
     "metadata": {
      "needs_background": "light"
     },
     "output_type": "display_data"
    }
   ],
   "source": [
    "# Plot the polarization functions.\n",
    "\n",
    "fig1, ax1 = plt.subplots(1,1)\n",
    "\n",
    "for i in range(8):\n",
    "    color = list(np.random.choice(range(256), size=3)/256)\n",
    "    ax1.plot(1e6*tlist, signal_positive_EFG[i], label='{} mT'.format(LongitudinalFields[i]*1e3), linestyle='-', color=color)\n",
    "ax1.plot(1e6*tlist, signal_negative_EFG, label='{} mT'.format(LongitudinalFields[2]*1e3), linestyle=':')\n",
    "ax1.set_ylim([-0.1,1.1])\n",
    "ax1.set_xlim([0,20])\n",
    "ax1.set_xlabel(r't ($\\mu s$)', fontsize=16)\n",
    "ax1.set_ylabel(r'P$_{z}$ ($t$)', fontsize=16)\n",
    "\n",
    "plt.legend(bbox_to_anchor=(1.04,1), loc=\"upper left\")\n",
    "plt.show()\n",
    "\n",
    "# Plot the integrated areas.\n",
    "fig2, ax2 = plt.subplots(1,1)\n",
    "\n",
    "ax2.scatter(LongitudinalFields*1e3, area)\n",
    "try:\n",
    "    # add interpolation if scipy is available\n",
    "    from scipy import interpolate\n",
    "    f = interpolate.interp1d(LongitudinalFields*1e3,area,kind='cubic')\n",
    "    x=np.linspace(0,6)\n",
    "    plt.plot(x, f(x))\n",
    "except:\n",
    "    pass\n",
    "\n",
    "\n",
    "ax2.set_ylim([4,21])\n",
    "ax2.set_xlim([-0.5,6.5])\n",
    "ax2.set_xlabel(r'B$_{ext}$ ($mT$)', fontsize=16)\n",
    "ax2.set_ylabel(r'Area under P$_{z}$ ($t$) ($\\mu s$)', fontsize=16)\n",
    "\n",
    "plt.show()"
   ]
  }
 ],
 "metadata": {
  "kernelspec": {
   "display_name": "Python 3",
   "language": "python",
   "name": "python3"
  },
  "language_info": {
   "codemirror_mode": {
    "name": "ipython",
    "version": 3
   },
   "file_extension": ".py",
   "mimetype": "text/x-python",
   "name": "python",
   "nbconvert_exporter": "python",
   "pygments_lexer": "ipython3",
   "version": "3.8.6"
  }
 },
 "nbformat": 4,
 "nbformat_minor": 4
}
