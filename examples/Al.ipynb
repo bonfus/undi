{
 "cells": [
  {
   "cell_type": "markdown",
   "id": "e0cd20bd",
   "metadata": {},
   "source": [
    "# Octahedral site of FCC Al\n",
    "Author: Jonathan Frassineti\n",
    "\n",
    "This example shows how to use the Celio approximation as implemented in UNDI.\n",
    "The simulations that follow reproduce the case of Al for different external magnetic fields along the [1.,1.,1.] axis.\n",
    "The comparison between the case with positive electric field gradient (EFG) and negative EFG is shown.\n",
    "For the physical aspects, see A.Yaouanc and P. de Réotier, Muon Spin Rotation, Relaxation and Resonance,\n",
    "Oxford University Press, 2010, chapter 7, Fig. 7.8."
   ]
  },
  {
   "cell_type": "code",
   "execution_count": 1,
   "id": "bd220f6c",
   "metadata": {
    "execution": {
     "iopub.execute_input": "2021-11-29T10:29:17.722459Z",
     "iopub.status.busy": "2021-11-29T10:29:17.719890Z",
     "iopub.status.idle": "2021-11-29T10:29:19.288522Z",
     "shell.execute_reply": "2021-11-29T10:29:19.287942Z"
    }
   },
   "outputs": [],
   "source": [
    "try:\n",
    "    from undi import MuonNuclearInteraction\n",
    "except (ImportError, ModuleNotFoundError):\n",
    "    import sys\n",
    "    sys.path.append('../undi')\n",
    "    from undi import MuonNuclearInteraction\n",
    "import matplotlib.pyplot as plt\n",
    "import numpy as np"
   ]
  },
  {
   "cell_type": "markdown",
   "id": "531d3d89",
   "metadata": {},
   "source": [
    "Define physical constants."
   ]
  },
  {
   "cell_type": "code",
   "execution_count": 2,
   "id": "eb5dde7d",
   "metadata": {
    "execution": {
     "iopub.execute_input": "2021-11-29T10:29:19.292455Z",
     "iopub.status.busy": "2021-11-29T10:29:19.291979Z",
     "iopub.status.idle": "2021-11-29T10:29:19.293804Z",
     "shell.execute_reply": "2021-11-29T10:29:19.294205Z"
    }
   },
   "outputs": [],
   "source": [
    "angtom = 1.0e-10 # m, Angstrom.\n",
    "a = 4.0495*1.05 # Al lattice constant, in Angstrom, distorted by the muon presence.\n",
    "elementary_charge = 1.6021766e-19 # Elementary charge, in Coulomb = Ampere*second.\n",
    "epsilon0 = 8.8541878e-12 # Vacuum permittivity, in Ampere^2*kilogram^−1*meter^−3*second^4.\n",
    "h = 6.6260693e-34 # J*s, Planck's constant.\n",
    "hbar = h/(2*np.pi) # J*s, reduced Planck's constant.\n",
    "\n",
    "Quadrupole_moment_Al = 0.1466e-28 # m^2, quadrupole moment of Al.\n",
    "omega_E = 0.70e6 # Quadrupolar resonance frequency of Al, in us^-1."
   ]
  },
  {
   "cell_type": "markdown",
   "id": "cf23d183",
   "metadata": {},
   "source": [
    "Define the rotation matrix that brings the diagonal of the FCC lattice\n",
    "along z."
   ]
  },
  {
   "cell_type": "code",
   "execution_count": 3,
   "id": "32c2fc4f",
   "metadata": {
    "execution": {
     "iopub.execute_input": "2021-11-29T10:29:19.297390Z",
     "iopub.status.busy": "2021-11-29T10:29:19.296958Z",
     "iopub.status.idle": "2021-11-29T10:29:19.298962Z",
     "shell.execute_reply": "2021-11-29T10:29:19.298533Z"
    }
   },
   "outputs": [],
   "source": [
    "R = np.array([[ 0.78867513, -0.21132487, -0.57735027],\n",
    "              [-0.21132487,  0.78867513, -0.57735027],\n",
    "              [ 0.57735027,  0.57735027,  0.57735027]])"
   ]
  },
  {
   "cell_type": "markdown",
   "id": "e8825966",
   "metadata": {},
   "source": [
    "Define the atomic positions for muon and Al nuclei."
   ]
  },
  {
   "cell_type": "code",
   "execution_count": 4,
   "id": "90e15f04",
   "metadata": {
    "execution": {
     "iopub.execute_input": "2021-11-29T10:29:19.303622Z",
     "iopub.status.busy": "2021-11-29T10:29:19.303152Z",
     "iopub.status.idle": "2021-11-29T10:29:19.304691Z",
     "shell.execute_reply": "2021-11-29T10:29:19.304237Z"
    }
   },
   "outputs": [],
   "source": [
    "mu_pos = np.array([  0  ,   0.,   0.])\n",
    "Al_pos = np.array([[ 0. ,   0.,  -0.5],\n",
    "                   [ 0. ,   0.,   0.5],\n",
    "                   [ 0.5,   0.,   0.0],\n",
    "                   [-0.5,   0.,   0.0],\n",
    "                   [ 0. ,   0.5,  0.0],\n",
    "                   [ 0. , - 0.5,  0.0]])"
   ]
  },
  {
   "cell_type": "markdown",
   "id": "d8c57ffc",
   "metadata": {},
   "source": [
    "Define the atomic structure. Note that positions are rotated first and then\n",
    "transformed into Cartesian coordinates and SI units."
   ]
  },
  {
   "cell_type": "code",
   "execution_count": 5,
   "id": "644d910e",
   "metadata": {
    "execution": {
     "iopub.execute_input": "2021-11-29T10:29:19.308246Z",
     "iopub.status.busy": "2021-11-29T10:29:19.307816Z",
     "iopub.status.idle": "2021-11-29T10:29:19.309804Z",
     "shell.execute_reply": "2021-11-29T10:29:19.309434Z"
    }
   },
   "outputs": [],
   "source": [
    "atoms = [\n",
    "        {'Position': R.dot(mu_pos)*angtom*a,\n",
    "         'Label': 'mu'\n",
    "        }\n",
    "    ]\n",
    "\n",
    "for i in range(6):\n",
    "    atoms.append(\n",
    "        {'Position': R.dot(Al_pos[i])*angtom*a,\n",
    "        'Label': '27Al',\n",
    "        'ElectricQuadrupoleMoment': Quadrupole_moment_Al,\n",
    "        'OmegaQmu': omega_E\n",
    "        }\n",
    "    )"
   ]
  },
  {
   "cell_type": "markdown",
   "id": "545423fd",
   "metadata": {},
   "source": [
    "## Polarization function.\n",
    "\n",
    "The muon polarization is obtained with the method introduced by Celio."
   ]
  },
  {
   "cell_type": "code",
   "execution_count": 6,
   "id": "bca810e1",
   "metadata": {
    "execution": {
     "iopub.execute_input": "2021-11-29T10:29:19.312619Z",
     "iopub.status.busy": "2021-11-29T10:29:19.312186Z",
     "iopub.status.idle": "2021-11-29T10:29:19.313322Z",
     "shell.execute_reply": "2021-11-29T10:29:19.313699Z"
    }
   },
   "outputs": [],
   "source": [
    "steps = 100\n",
    "tlist = np.linspace(0, 20e-6, steps) # Time scale, in seconds."
   ]
  },
  {
   "cell_type": "markdown",
   "id": "018e4895",
   "metadata": {},
   "source": [
    "Define the applied external magnetic fields, in Tesla."
   ]
  },
  {
   "cell_type": "code",
   "execution_count": 7,
   "id": "ca82b548",
   "metadata": {
    "execution": {
     "iopub.execute_input": "2021-11-29T10:29:19.320145Z",
     "iopub.status.busy": "2021-11-29T10:29:19.319549Z",
     "iopub.status.idle": "2021-11-29T10:30:05.731287Z",
     "shell.execute_reply": "2021-11-29T10:30:05.731837Z"
    }
   },
   "outputs": [
    {
     "name": "stdout",
     "output_type": "stream",
     "text": [
      "Computing signal for positive EFGs..."
     ]
    },
    {
     "name": "stderr",
     "output_type": "stream",
     "text": [
      "100%|██████████████████████████████████████████████████████| 100/100 [00:03<00:00, 31.01it/s]\n",
      "100%|██████████████████████████████████████████████████████| 100/100 [00:03<00:00, 29.91it/s]\n",
      "100%|██████████████████████████████████████████████████████| 100/100 [00:03<00:00, 31.27it/s]\n",
      "100%|██████████████████████████████████████████████████████| 100/100 [00:03<00:00, 29.51it/s]\n",
      "100%|██████████████████████████████████████████████████████| 100/100 [00:03<00:00, 30.89it/s]\n",
      "100%|██████████████████████████████████████████████████████| 100/100 [00:03<00:00, 30.06it/s]\n",
      "100%|██████████████████████████████████████████████████████| 100/100 [00:03<00:00, 30.62it/s]\n",
      "100%|██████████████████████████████████████████████████████| 100/100 [00:03<00:00, 29.42it/s]\n",
      "100%|██████████████████████████████████████████████████████| 100/100 [00:03<00:00, 29.96it/s]\n",
      "100%|██████████████████████████████████████████████████████| 100/100 [00:03<00:00, 30.34it/s]\n",
      "100%|██████████████████████████████████████████████████████| 100/100 [00:03<00:00, 30.82it/s]\n",
      "100%|██████████████████████████████████████████████████████| 100/100 [00:03<00:00, 30.37it/s]"
     ]
    },
    {
     "name": "stdout",
     "output_type": "stream",
     "text": [
      "done!\n",
      "And now for negative EFG..."
     ]
    },
    {
     "name": "stderr",
     "output_type": "stream",
     "text": [
      "\n",
      "100%|██████████████████████████████████████████████████████| 100/100 [00:03<00:00, 28.41it/s]"
     ]
    },
    {
     "name": "stdout",
     "output_type": "stream",
     "text": [
      "done again!\n"
     ]
    },
    {
     "name": "stderr",
     "output_type": "stream",
     "text": [
      "\n"
     ]
    }
   ],
   "source": [
    "LongitudinalFields = np.array([0.0, 0.001, 0.00164, 0.003, 0.00329, 0.004, 0.005, 0.006, 0.0005, 0.002, 0.0045, 0.0055])\n",
    "\n",
    "#This is the Celio method for the polarization function with positive EFG.\n",
    "print(\"Computing signal for positive EFGs...\", end='', flush=True)\n",
    "\n",
    "signal_positive_EFG = np.zeros([len(LongitudinalFields), steps]) # Define the polarization signal with positive EFGs.\n",
    "\n",
    "for i, B in enumerate(LongitudinalFields):\n",
    "\n",
    "    # Align the external field along z i.e. parallel to the muon spin.\n",
    "    B_pos = B*np.array([0.,0.,1.])\n",
    "\n",
    "    NS_positive = MuonNuclearInteraction(atoms, external_field=B_pos, log_level='warn')\n",
    "\n",
    "    signal_positive_EFG[i] = NS_positive.celio_onsteroids(tlist,  k=3, single_precision=True)\n",
    "\n",
    "    del NS_positive\n",
    "\n",
    "print('done!')\n",
    "\n",
    "#This is the Celio method for the polarization function with negative EFG.\n",
    "print(\"And now for negative EFG...\", end='', flush=True)\n",
    "\n",
    "# Align the external field along z i.e. parallel to the muon spin.\n",
    "B_neg = LongitudinalFields[2]*np.array([0., 0., 1.])\n",
    "\n",
    "# change sign\n",
    "for i, a in enumerate(atoms):\n",
    "    if 'OmegaQmu' in a.keys():\n",
    "        atoms[i]['OmegaQmu'] = -a['OmegaQmu']\n",
    "\n",
    "NS_negative = MuonNuclearInteraction(atoms, external_field=B_neg, log_level='warn')\n",
    "\n",
    "signal_negative_EFG = NS_negative.celio_onsteroids(tlist,  k=3, single_precision=True)\n",
    "\n",
    "del NS_negative\n",
    "\n",
    "print('done again!')"
   ]
  },
  {
   "cell_type": "markdown",
   "id": "1abf5ff7",
   "metadata": {},
   "source": [
    "Integrate the different curves to reproduce Fig.7.8 (right)."
   ]
  },
  {
   "cell_type": "code",
   "execution_count": 8,
   "id": "e63cd93b",
   "metadata": {
    "execution": {
     "iopub.execute_input": "2021-11-29T10:30:05.738097Z",
     "iopub.status.busy": "2021-11-29T10:30:05.737477Z",
     "iopub.status.idle": "2021-11-29T10:30:05.739701Z",
     "shell.execute_reply": "2021-11-29T10:30:05.739135Z"
    }
   },
   "outputs": [],
   "source": [
    "area = np.trapz(signal_positive_EFG, x = 1e6*tlist, dx = 0.2e-6)"
   ]
  },
  {
   "cell_type": "markdown",
   "id": "eccf82fd",
   "metadata": {},
   "source": [
    "...and the results are:"
   ]
  },
  {
   "cell_type": "code",
   "execution_count": 9,
   "id": "b941b807",
   "metadata": {
    "execution": {
     "iopub.execute_input": "2021-11-29T10:30:05.813375Z",
     "iopub.status.busy": "2021-11-29T10:30:05.770247Z",
     "iopub.status.idle": "2021-11-29T10:30:06.520688Z",
     "shell.execute_reply": "2021-11-29T10:30:06.520241Z"
    }
   },
   "outputs": [
    {
     "data": {
      "image/png": "[encoded data removed]",
      "text/plain": [
       "<Figure size 432x288 with 1 Axes>"
      ]
     },
     "metadata": {
      "needs_background": "light"
     },
     "output_type": "display_data"
    },
    {
     "data": {
      "image/png": "[encoded data removed]",
      "text/plain": [
       "<Figure size 432x288 with 1 Axes>"
      ]
     },
     "metadata": {
      "needs_background": "light"
     },
     "output_type": "display_data"
    }
   ],
   "source": [
    "# Plot the polarization functions.\n",
    "\n",
    "fig1, ax1 = plt.subplots(1,1)\n",
    "\n",
    "for i in range(8):\n",
    "    color = list(np.random.choice(range(256), size=3)/256)\n",
    "    ax1.plot(1e6*tlist, signal_positive_EFG[i], label='{} mT'.format(LongitudinalFields[i]*1e3), linestyle='-', color=color)\n",
    "ax1.plot(1e6*tlist, signal_negative_EFG, label='{} mT'.format(LongitudinalFields[2]*1e3), linestyle=':')\n",
    "ax1.set_ylim([-0.1,1.1])\n",
    "ax1.set_xlim([0,20])\n",
    "ax1.set_xlabel(r't ($\\mu s$)', fontsize=16)\n",
    "ax1.set_ylabel(r'P$_{z}$ ($t$)', fontsize=16)\n",
    "\n",
    "plt.legend(bbox_to_anchor=(1.04,1), loc=\"upper left\")\n",
    "plt.show()\n",
    "\n",
    "# Plot the integrated areas.\n",
    "fig2, ax2 = plt.subplots(1,1)\n",
    "\n",
    "ax2.scatter(LongitudinalFields*1e3, area)\n",
    "try:\n",
    "    # add interpolation if scipy is available\n",
    "    from scipy import interpolate\n",
    "    f = interpolate.interp1d(LongitudinalFields*1e3,area,kind='cubic')\n",
    "    x=np.linspace(0,6)\n",
    "    plt.plot(x, f(x))\n",
    "except:\n",
    "    pass\n",
    "\n",
    "\n",
    "ax2.set_ylim([4,21])\n",
    "ax2.set_xlim([-0.5,6.5])\n",
    "ax2.set_xlabel(r'B$_{ext}$ ($mT$)', fontsize=16)\n",
    "ax2.set_ylabel(r'Area under P$_{z}$ ($t$) ($\\mu s$)', fontsize=16)\n",
    "\n",
    "plt.show()"
   ]
  }
 ],
 "metadata": {
  "kernelspec": {
   "display_name": "Python 3 (ipykernel)",
   "language": "python",
   "name": "python3"
  },
  "language_info": {
   "codemirror_mode": {
    "name": "ipython",
    "version": 3
   },
   "file_extension": ".py",
   "mimetype": "text/x-python",
   "name": "python",
   "nbconvert_exporter": "python",
   "pygments_lexer": "ipython3",
   "version": "3.9.7"
  }
 },
 "nbformat": 4,
 "nbformat_minor": 5
}
